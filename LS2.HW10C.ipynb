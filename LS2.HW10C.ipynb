{
 "cells": [
  {
   "cell_type": "code",
   "execution_count": 3,
   "metadata": {},
   "outputs": [
    {
     "name": "stdout",
     "output_type": "stream",
     "text": [
      "v_ph = 0.2126944621086619 m/s\n",
      "v_ph = 0.31904169316299286 m/s\n"
     ]
    }
   ],
   "source": [
    "import matplotlib.pyplot as plt\n",
    "import numpy as np\n",
    "\n",
    "lambda_1 = 0.99e-2\n",
    "lambda_2 = 1.01e-2\n",
    "S = 72e-3\n",
    "rho = 1000\n",
    "\n",
    "v_ph = np.sqrt(2 * np.pi * S/(rho * (lambda_2 + lambda_1)/2))\n",
    "v_gr = 3/2 * v_ph\n",
    "\n",
    "\n",
    "print(\"v_ph = {} m/s\".format(v_ph))\n",
    "print(\"v_ph = {} m/s\".format(v_gr))\n"
   ]
  }
 ],
 "metadata": {
  "kernelspec": {
   "display_name": "Python 3",
   "language": "python",
   "name": "python3"
  },
  "language_info": {
   "codemirror_mode": {
    "name": "ipython",
    "version": 3
   },
   "file_extension": ".py",
   "mimetype": "text/x-python",
   "name": "python",
   "nbconvert_exporter": "python",
   "pygments_lexer": "ipython3",
   "version": "3.6.1"
  }
 },
 "nbformat": 4,
 "nbformat_minor": 2
}
