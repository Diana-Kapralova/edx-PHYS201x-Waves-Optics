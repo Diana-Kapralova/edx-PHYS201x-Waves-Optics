{
 "cells": [
  {
   "cell_type": "code",
   "execution_count": 8,
   "metadata": {},
   "outputs": [
    {
     "name": "stdout",
     "output_type": "stream",
     "text": [
      "v = 5067.6761655691425 m/s\n"
     ]
    }
   ],
   "source": [
    "import matplotlib.pyplot as plt\n",
    "import numpy as np\n",
    "\n",
    "d = 1e-3\n",
    "l = 2\n",
    "m = 4.24e-3\n",
    "M = 10\n",
    "delta_l = 3.6e-3\n",
    "g = 9.8\n",
    "A = np.pi * d * d / 4\n",
    "V = np.pi * d * d * l / 4\n",
    "rho = m / V\n",
    "F = M * g\n",
    "E = F * l / (A * delta_l)\n",
    "\n",
    "v = np.sqrt(E / rho)\n",
    "\n",
    "print(\"v = {} m/s\".format(v))"
   ]
  }
 ],
 "metadata": {
  "kernelspec": {
   "display_name": "Python 3",
   "language": "python",
   "name": "python3"
  },
  "language_info": {
   "codemirror_mode": {
    "name": "ipython",
    "version": 3
   },
   "file_extension": ".py",
   "mimetype": "text/x-python",
   "name": "python",
   "nbconvert_exporter": "python",
   "pygments_lexer": "ipython3",
   "version": "3.5.3"
  }
 },
 "nbformat": 4,
 "nbformat_minor": 2
}
