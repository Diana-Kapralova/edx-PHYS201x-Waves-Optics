{
 "cells": [
  {
   "cell_type": "code",
   "execution_count": 2,
   "metadata": {},
   "outputs": [
    {
     "name": "stdout",
     "output_type": "stream",
     "text": [
      "w0_min = 1.1952286093343936 rad/s\n",
      "w0_max = 2.0701966780270626 rad/s\n"
     ]
    }
   ],
   "source": [
    "import matplotlib.pyplot as plt\n",
    "import numpy as np\n",
    "\n",
    "m = 3.5\n",
    "k = 5\n",
    "L = 30e-2\n",
    "\n",
    "w0_min = np.sqrt(k/m)\n",
    "w0_max = np.sqrt(3 * k/m)\n",
    "\n",
    "print(\"w0_min = {} rad/s\".format(w0_min))\n",
    "print(\"w0_max = {} rad/s\".format(w0_max))"
   ]
  }
 ],
 "metadata": {
  "kernelspec": {
   "display_name": "Python 3",
   "language": "python",
   "name": "python3"
  },
  "language_info": {
   "codemirror_mode": {
    "name": "ipython",
    "version": 3
   },
   "file_extension": ".py",
   "mimetype": "text/x-python",
   "name": "python",
   "nbconvert_exporter": "python",
   "pygments_lexer": "ipython3",
   "version": "3.5.3"
  }
 },
 "nbformat": 4,
 "nbformat_minor": 2
}
