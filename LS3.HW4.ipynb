{
 "cells": [
  {
   "cell_type": "code",
   "execution_count": 48,
   "metadata": {},
   "outputs": [],
   "source": [
    "import matplotlib.pyplot as plt\n",
    "import numpy as np\n",
    "\n",
    "#TE\n",
    "P_inc = 2.5e-3\n",
    "Lambda = 633e-9\n",
    "d = 2e-3\n",
    "n1 = 1\n",
    "n2 = 1.5\n",
    "h = 1e-3\n",
    "Theta_inc = np.deg2rad(30)\n",
    "c = 3e8\n",
    "Epsilon0 = 8.85e-12"
   ]
  },
  {
   "cell_type": "markdown",
   "metadata": {},
   "source": [
    "# E0 - electric field amplitude of incident beam"
   ]
  },
  {
   "cell_type": "code",
   "execution_count": 49,
   "metadata": {},
   "outputs": [
    {
     "name": "stdout",
     "output_type": "stream",
     "text": [
      "E0 = 774.2439191218472 V/m \n"
     ]
    }
   ],
   "source": [
    "Ee = 4*P_inc/(np.pi*d**2)\n",
    "E0 = np.sqrt(2*Ee/(Epsilon0 * c))\n",
    "\n",
    "print(\"E0 = {} V/m \".format(E0))"
   ]
  },
  {
   "cell_type": "markdown",
   "metadata": {},
   "source": [
    "# Transmitted angle(Snail's Law)"
   ]
  },
  {
   "cell_type": "code",
   "execution_count": 50,
   "metadata": {},
   "outputs": [
    {
     "name": "stdout",
     "output_type": "stream",
     "text": [
      "Theta_trans = 19.47122063449069 degree \n"
     ]
    }
   ],
   "source": [
    "Theta_trans = np.rad2deg(np.arcsin(n1*np.sin(Theta_inc)/n2))\n",
    "print(\"Theta_trans = {} degree \".format(Theta_trans))"
   ]
  },
  {
   "cell_type": "markdown",
   "metadata": {},
   "source": [
    "# Reflected Power"
   ]
  },
  {
   "cell_type": "code",
   "execution_count": 51,
   "metadata": {},
   "outputs": [
    {
     "name": "stdout",
     "output_type": "stream",
     "text": [
      "P_ref= 0.14449026350803276 mW \n"
     ]
    }
   ],
   "source": [
    "r_TE = (np.cos(Theta_inc)-np.sqrt(n2**2 - np.sin(Theta_inc)**2))/(np.cos(Theta_inc)+np.sqrt(n2**2 - np.sin(Theta_inc)**2))\n",
    "R = r_TE**2\n",
    "P_ref = P_inc*R*1e3\n",
    "print(\"P_ref= {} mW \".format(P_ref))"
   ]
  }
 ],
 "metadata": {
  "kernelspec": {
   "display_name": "Python 3",
   "language": "python",
   "name": "python3"
  },
  "language_info": {
   "codemirror_mode": {
    "name": "ipython",
    "version": 3
   },
   "file_extension": ".py",
   "mimetype": "text/x-python",
   "name": "python",
   "nbconvert_exporter": "python",
   "pygments_lexer": "ipython3",
   "version": "3.6.1"
  }
 },
 "nbformat": 4,
 "nbformat_minor": 2
}
