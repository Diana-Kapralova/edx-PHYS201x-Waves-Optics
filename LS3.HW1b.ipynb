{
 "cells": [
  {
   "cell_type": "code",
   "execution_count": 4,
   "metadata": {},
   "outputs": [
    {
     "name": "stdout",
     "output_type": "stream",
     "text": [
      "k = 626.963527118644 N/m \n"
     ]
    }
   ],
   "source": [
    "import matplotlib.pyplot as plt\n",
    "import numpy as np\n",
    "\n",
    "N_SiO2 = 2.61e28\n",
    "ne = 16\n",
    "w = 0.157e17\n",
    "qe = 1.6e-19\n",
    "me = 9.1e-31\n",
    "epsilon_0 = 8.85e-12 \n",
    "\n",
    "k = w**2*me + N_SiO2*ne*qe*qe/(3*epsilon_0)\n",
    "\n",
    "print(\"k = {} N/m \".format(k))"
   ]
  }
 ],
 "metadata": {
  "kernelspec": {
   "display_name": "Python 3",
   "language": "python",
   "name": "python3"
  },
  "language_info": {
   "codemirror_mode": {
    "name": "ipython",
    "version": 3
   },
   "file_extension": ".py",
   "mimetype": "text/x-python",
   "name": "python",
   "nbconvert_exporter": "python",
   "pygments_lexer": "ipython3",
   "version": "3.6.1"
  }
 },
 "nbformat": 4,
 "nbformat_minor": 2
}
