{
 "cells": [
  {
   "cell_type": "code",
   "execution_count": 2,
   "metadata": {},
   "outputs": [
    {
     "name": "stdout",
     "output_type": "stream",
     "text": [
      "F = -0.00263189450695716*sin(5.23598775598299*x) \n"
     ]
    }
   ],
   "source": [
    "import matplotlib.pyplot as plt\n",
    "from sympy import *\n",
    "import numpy as np\n",
    "\n",
    "A = 0.03\n",
    "T = 3.2\n",
    "L = 3\n",
    "mu = 0.0023\n",
    "delta_x = 0.001\n",
    "x = Symbol('x')\n",
    "n = 5\n",
    "y = A * sin (n * np.pi * x / L)\n",
    "y_2_der = y.diff(x, x)\n",
    "\n",
    "F = T * delta_x * y_2_der\n",
    "\n",
    "print(\"F = {} \".format(F))\n"
   ]
  },
  {
   "cell_type": "code",
   "execution_count": null,
   "metadata": {
    "collapsed": true
   },
   "outputs": [],
   "source": []
  }
 ],
 "metadata": {
  "kernelspec": {
   "display_name": "Python 3",
   "language": "python",
   "name": "python3"
  },
  "language_info": {
   "codemirror_mode": {
    "name": "ipython",
    "version": 3
   },
   "file_extension": ".py",
   "mimetype": "text/x-python",
   "name": "python",
   "nbconvert_exporter": "python",
   "pygments_lexer": "ipython3",
   "version": "3.5.3"
  }
 },
 "nbformat": 4,
 "nbformat_minor": 2
}
