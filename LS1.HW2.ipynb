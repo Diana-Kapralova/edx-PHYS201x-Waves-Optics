{
 "cells": [
  {
   "cell_type": "code",
   "execution_count": 10,
   "metadata": {},
   "outputs": [
    {
     "name": "stdout",
     "output_type": "stream",
     "text": [
      "l = 19.10560456902236m, w0 = 1.3962634015954636\n",
      "T = 4.5\n"
     ]
    }
   ],
   "source": [
    "import matplotlib.pyplot as plt\n",
    "import numpy as np\n",
    "\n",
    "g = 9.8\n",
    "n = 2\n",
    "t = 9\n",
    "w0 = 2*np.pi*n/t\n",
    "l = np.power(w0,2) * g\n",
    "print(\"l = {}m, w0 = {}\".format(l, (w0)))\n",
    "T = 2*np.pi/w0\n",
    "print(\"T = {}\" .format(T))\n"
   ]
  },
  {
   "cell_type": "code",
   "execution_count": null,
   "metadata": {
    "collapsed": true
   },
   "outputs": [],
   "source": []
  }
 ],
 "metadata": {
  "kernelspec": {
   "display_name": "Python 3",
   "language": "python",
   "name": "python3"
  },
  "language_info": {
   "codemirror_mode": {
    "name": "ipython",
    "version": 3
   },
   "file_extension": ".py",
   "mimetype": "text/x-python",
   "name": "python",
   "nbconvert_exporter": "python",
   "pygments_lexer": "ipython3",
   "version": "3.5.3"
  }
 },
 "nbformat": 4,
 "nbformat_minor": 2
}
