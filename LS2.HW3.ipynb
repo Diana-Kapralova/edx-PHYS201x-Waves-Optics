{
 "cells": [
  {
   "cell_type": "code",
   "execution_count": 5,
   "metadata": {},
   "outputs": [
    {
     "name": "stdout",
     "output_type": "stream",
     "text": [
      "L = 173.4537522415317 m \n",
      "m = 4.7840531561461796e-26 kg\n",
      "v = 346.9075044830634 m/s\n"
     ]
    }
   ],
   "source": [
    "import matplotlib.pyplot as plt\n",
    "import numpy as np\n",
    "\n",
    "gammaC = 1.4\n",
    "kB = 1.38e-23\n",
    "NA = 6.02e23\n",
    "T_C = 25\n",
    "T_K = T_C + 273\n",
    "n_O2 = 0.2\n",
    "n_N2 = 0.8\n",
    "t = 0.5\n",
    "mu_N2 = 28e-3\n",
    "mu_O2 = 32e-3\n",
    "\n",
    "m = (n_O2 * mu_O2 + n_N2 * mu_N2) / NA\n",
    "v = np.sqrt(gammaC * kB * T_K / m)\n",
    "L = v * t\n",
    "\n",
    "print(\"L = {} m \".format(L))\n",
    "print(\"m = {} kg\".format(m))\n",
    "print(\"v = {} m/s\".format(v))"
   ]
  }
 ],
 "metadata": {
  "kernelspec": {
   "display_name": "Python 3",
   "language": "python",
   "name": "python3"
  },
  "language_info": {
   "codemirror_mode": {
    "name": "ipython",
    "version": 3
   },
   "file_extension": ".py",
   "mimetype": "text/x-python",
   "name": "python",
   "nbconvert_exporter": "python",
   "pygments_lexer": "ipython3",
   "version": "3.5.3"
  }
 },
 "nbformat": 4,
 "nbformat_minor": 2
}
