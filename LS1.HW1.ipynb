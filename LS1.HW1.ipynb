{
 "cells": [
  {
   "cell_type": "code",
   "execution_count": 1,
   "metadata": {},
   "outputs": [
    {
     "name": "stdout",
     "output_type": "stream",
     "text": [
      "w0 = 2.8284271247461903 \n",
      "T = 2.221441469079183\n",
      "vmax = 0.19798989873223333\n"
     ]
    }
   ],
   "source": [
    "import matplotlib.pyplot as plt\n",
    "import numpy as np\n",
    "\n",
    "A = 7e-2\n",
    "m = 0.5\n",
    "k = 4\n",
    "w0 = np.sqrt(k/m)\n",
    "print(\"w0 = {} \".format(w0))\n",
    "T = 2*np.pi/w0\n",
    "print(\"T = {}\" .format(T))\n",
    "vmax = A * w0\n",
    "print(\"vmax = {}\" .format(vmax))\n"
   ]
  }
 ],
 "metadata": {
  "kernelspec": {
   "display_name": "Python 3",
   "language": "python",
   "name": "python3"
  },
  "language_info": {
   "codemirror_mode": {
    "name": "ipython",
    "version": 3
   },
   "file_extension": ".py",
   "mimetype": "text/x-python",
   "name": "python",
   "nbconvert_exporter": "python",
   "pygments_lexer": "ipython3",
   "version": "3.5.3"
  }
 },
 "nbformat": 4,
 "nbformat_minor": 2
}
